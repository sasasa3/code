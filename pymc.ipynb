{
 "cells": [
  {
   "cell_type": "code",
   "execution_count": null,
   "metadata": {
    "id": "40070007"
   },
   "outputs": [],
   "source": [
    "from datetime import datetime as dt\n",
    "\n",
    "import numpy as np\n",
    "import pandas as pd\n",
    "import matplotlib.pyplot as plt\n",
    "import seaborn as sns\n",
    "from scipy import stats as st\n",
    "\n",
    "from sklearn.preprocessing import StandardScaler"
   ]
  },
  {
   "cell_type": "markdown",
   "metadata": {
    "id": "acde30db"
   },
   "source": [
    "### データ読み込み"
   ]
  },
  {
   "cell_type": "code",
   "execution_count": null,
   "metadata": {
    "colab": {
     "base_uri": "https://localhost:8080/"
    },
    "id": "f2e93a4c",
    "outputId": "5658bef9-d7ac-4dfc-d27c-20aba21feee1"
   },
   "outputs": [],
   "source": [
    "train_kaggle = pd.read_csv('train_kaggle.csv')\n",
    "train_kaggle.datetime = pd.to_datetime(train_kaggle.datetime)\n",
    "train_kaggle.datetime.min(), train_kaggle.datetime.max()"
   ]
  },
  {
   "cell_type": "markdown",
   "metadata": {
    "id": "b8f66011"
   },
   "source": [
    " ### 目的変数をドルに変換"
   ]
  },
  {
   "cell_type": "code",
   "execution_count": null,
   "metadata": {
    "colab": {
     "base_uri": "https://localhost:8080/",
     "height": 204
    },
    "id": "e34eda2a",
    "outputId": "b3d149f2-ed21-44cc-fe7e-b84ec45e5159",
    "scrolled": true
   },
   "outputs": [],
   "source": [
    "minimum_unit = train_kaggle.operation_value.abs().min()\n",
    "train_kaggle['target'] = train_kaggle.operation_value / minimum_unit\n",
    "train_kaggle['target'] = train_kaggle['target'].astype(int)\n",
    "train_kaggle.head()"
   ]
  },
  {
   "cell_type": "markdown",
   "metadata": {
    "id": "af9a84be"
   },
   "source": [
    "### とりあえず目的変数をヒストグラムに"
   ]
  },
  {
   "cell_type": "code",
   "execution_count": null,
   "metadata": {
    "colab": {
     "base_uri": "https://localhost:8080/",
     "height": 282
    },
    "id": "8fb23336",
    "outputId": "3f7cdcab-2840-4344-f1e7-c01dc4096bfc"
   },
   "outputs": [],
   "source": [
    "print(train_kaggle.target.mean(),train_kaggle.target.min(),train_kaggle.target.max(),)\n",
    "train_kaggle.target.hist(bins=30);"
   ]
  },
  {
   "cell_type": "code",
   "execution_count": null,
   "metadata": {
    "id": "auxTugrvqNDD"
   },
   "outputs": [],
   "source": [
    "for atm_id in by_atm.keys():\n",
    "    idx = by_atm[atm_id].datetime\n",
    "    x = by_atm[atm_id].target\n",
    "    plt.plot(idx, x);"
   ]
  },
  {
   "cell_type": "code",
   "execution_count": null,
   "metadata": {
    "id": "AopQgvOGuv7Y"
   },
   "outputs": [],
   "source": []
  },
  {
   "cell_type": "markdown",
   "metadata": {
    "id": "fc61f8ac"
   },
   "source": [
    "### なんとなくヒートマップ"
   ]
  },
  {
   "cell_type": "code",
   "execution_count": null,
   "metadata": {
    "colab": {
     "base_uri": "https://localhost:8080/",
     "height": 334
    },
    "id": "a6befbd2",
    "outputId": "d9e0b9e4-92f0-4932-c09e-9172b491b4bc"
   },
   "outputs": [],
   "source": [
    "train_kaggle['dayofweek'] = train_kaggle.datetime.dt.dayofweek\n",
    "train_kaggle['day'] = train_kaggle.datetime.dt.day\n",
    "train_kaggle['month'] = train_kaggle.datetime.dt.month\n",
    "train_kaggle['week'] = train_kaggle.datetime.dt.week\n",
    "sns.heatmap(train_kaggle.pivot_table(index='day', columns='dayofweek', values='target'));"
   ]
  },
  {
   "cell_type": "code",
   "execution_count": null,
   "metadata": {
    "id": "XjNqdVtEqnSA"
   },
   "outputs": [],
   "source": []
  },
  {
   "cell_type": "code",
   "execution_count": null,
   "metadata": {
    "id": "_l28540hqnVH"
   },
   "outputs": [],
   "source": []
  },
  {
   "cell_type": "code",
   "execution_count": null,
   "metadata": {
    "id": "qIb_ZcdUrsqE"
   },
   "outputs": [],
   "source": []
  },
  {
   "cell_type": "markdown",
   "metadata": {
    "id": "f27dc750"
   },
   "source": [
    "### ATM 別のトランザクション数"
   ]
  },
  {
   "cell_type": "code",
   "execution_count": null,
   "metadata": {
    "colab": {
     "base_uri": "https://localhost:8080/",
     "height": 609
    },
    "id": "fea47794",
    "outputId": "3a6b5147-7e0e-47d3-e456-d15073d46729"
   },
   "outputs": [],
   "source": [
    "\n",
    "print(len(train_kaggle.atm_id.unique()))\n",
    "train_kaggle.atm_id.value_counts()[[ 74,  85,  86,  87,  88,  90,  91,  93,  94,  96,  97,  98,  99,\n",
    "            100, 101, 102, 103, 104, 105, 106]].plot(kind='barh', figsize=(10, 10));"
   ]
  },
  {
   "cell_type": "markdown",
   "metadata": {
    "id": "e8f635cb"
   },
   "source": [
    "### 適当に前処理"
   ]
  },
  {
   "cell_type": "code",
   "execution_count": null,
   "metadata": {
    "id": "57db8b1c"
   },
   "outputs": [],
   "source": [
    "def read_weather_data(path):\n",
    "    \"\"\"\n",
    "    pathのデフォルトは 'dailydata.csv'\n",
    "    \"\"\"\n",
    "    weather_data = pd.read_csv(path, encoding='shift_jis')\n",
    "    weather_data.datetime = pd.to_datetime(weather_data.datetime)\n",
    "    weather_data = weather_data.drop(columns=['年', '月', '日'])\n",
    "    return weather_data\n",
    "\n",
    "def merge_weather_data(data, weather_data):\n",
    "    return pd.merge(data, weather_data, how='inner', on='datetime')\n",
    "    \n",
    "    \n",
    "\n",
    "def sumrize_daily_data(data):\n",
    "        daily_data = data.pivot_table(\n",
    "                                index=['datetime', 'atm_id', 'month', 'dayofweek', 'day'], \n",
    "                                values='target',\n",
    "                                aggfunc='sum').reset_index()\n",
    "        return daily_data\n",
    "\n",
    "def add_poly_feature(data, target_feature, dim):\n",
    "    \"\"\"\n",
    "    多項式回帰用: 指定したfeatureを次数dimまでの特徴量を追加する\n",
    "    \"\"\"\n",
    "    if dim < 2:\n",
    "        return data\n",
    "    else:\n",
    "        poly_feature = np.vstack([data[target_feature]**i for i in range(1, dim)]).T\n",
    "        feature_names = [f'{target_feature}^{i}' for i in range(2, dim)]\n",
    "        for i, feature_name in enumerate(feature_names):\n",
    "            data[feature_name] = poly_feature[:, i]\n",
    "        return data\n",
    "\n",
    "def add_passed_date_feature(data, datefrom):\n",
    "    \"\"\"\n",
    "    datefrom からの経過日数特徴量を追加する\n",
    "    フォーマッt : YYYY-mm-dd\n",
    "    \"\"\"\n",
    "    datefrom = dt.strptime(datefrom, '%Y-%m-%d')\n",
    "    return (data.datetime - datefrom).dt.days\n",
    "\n",
    "def add_salary10th(data):\n",
    "    return data['day'].replace({10: 1, 1: 0, 2: 0, 3: 0, 4: 0\n",
    "                                                   , 5: 0, 6: 0, 7: 0, 8: 0, 9: 0, 11: 0\n",
    "                                                   , 12: 0, 13: 0, 14: 0, 15: 0, 16: 0\n",
    "                                                   , 17: 0, 18: 0, 19: 0, 20: 0, 21: 0\n",
    "                                                   , 22: 0, 23: 0, 24: 0, 25: 0, 26: 0\n",
    "                                                   , 27: 0, 28: 0, 29: 0, 30: 0, 31: 0})\n",
    "\n",
    "def add_salary25th(data):\n",
    "    return data['day'].replace({25: 1, 1: 0, 2: 0, 3: 0, 4: 0\n",
    "                                                   , 5: 0, 6: 0, 7: 0, 8: 0, 9: 0, 11: 0\n",
    "                                                   , 12: 0, 13: 0, 14: 0, 15: 0, 16: 0\n",
    "                                                   , 17: 0, 18: 0, 19: 0, 20: 0, 21: 0\n",
    "                                                   , 22: 0, 23: 0, 24: 0, 10: 0, 26: 0\n",
    "                                                   , 27: 0, 28: 0, 29: 0, 30: 0, 31: 0})\n",
    "\n",
    "\n",
    "def preprocess(data):\n",
    "    daily_data = sumrize_daily_data(data)\n",
    "    weather_data = read_weather_data('dailydata.csv')\n",
    "    daily_data = merge_weather_data(daily_data, weather_data)\n",
    "    \n",
    "    daily_data['passed_date'] = add_passed_date_feature(daily_data, '2017-06-09')\n",
    "    # , :\n",
    "    for col in ['passed_date', 'day', '日平均気温(℃)', '日最高気温(℃)', '日最低気温(℃)', '日降水量(mm)']:\n",
    "        daily_data = add_poly_feature(daily_data, col, 5)\n",
    "        \n",
    "    daily_data['salary10th'] = add_salary10th(daily_data)\n",
    "    daily_data['salary25th'] = add_salary25th(daily_data)    \n",
    "    daily_data = pd.get_dummies(data=daily_data, columns=['dayofweek', 'month'], drop_first=True)\n",
    "    return daily_data\n",
    "\n",
    "\n",
    "def get_feature_target_cols(data):\n",
    "    \n",
    "    target_col = 'target'\n",
    "    exclude_cols = ['target', 'datetime', 'client_id', 'operation_value', 'atm_id', 'operation_type']\n",
    "    feature_cols = [col for col in data.columns if col not in exclude_cols]  # data_preprocessed には前処理ずみのデータを入れる\n",
    "    \n",
    "    return feature_cols, target_col\n",
    "\n",
    "\n",
    "def split_by_atm(data):\n",
    "    dataset_by_atm = {}\n",
    "    for atm_id in data.atm_id.unique(): \n",
    "        is_target = atm_id == data.atm_id\n",
    "        data_by_atm = data[is_target].reset_index(drop=True) \n",
    "        dataset_by_atm[atm_id] = data_by_atm\n",
    "    return dataset_by_atm\n",
    "\n",
    "\n",
    "def read_atm_data(path):\n",
    "    data = pd.read_csv(path)\n",
    "    data.datetime = pd.to_datetime(data.datetime)\n",
    "    return data\n",
    "\n",
    "\n",
    "def to_dollar(data):    \n",
    "    minimum_unit = data.operation_value.abs().min()\n",
    "    dollar = data.operation_value / minimum_unit\n",
    "    dollar = dollar.astype(int)\n",
    "    return dollar\n",
    "\n",
    "\n",
    "def add_date_features(data):\n",
    "    data['dayofweek'] = data.datetime.dt.dayofweek\n",
    "    data['day'] = data.datetime.dt.day\n",
    "    data['month'] = data.datetime.dt.month\n",
    "#     data['week'] = data.datetime.dt.week\n",
    "    return data\n",
    "\n",
    "def data_preparation_main(path='train_kaggle.csv'):\n",
    "    data = read_atm_data(path)\n",
    "    data['target'] = to_dollar(data)\n",
    "    data = add_date_features(data)\n",
    "    preprocessed = preprocess(data)\n",
    "    by_atm = split_by_atm(preprocessed)\n",
    "    feature_cols, target_col = get_feature_target_cols(preprocessed)\n",
    "    return preprocessed, by_atm, feature_cols,target_col"
   ]
  },
  {
   "cell_type": "markdown",
   "metadata": {
    "id": "ad055c85"
   },
   "source": [
    "###  学習"
   ]
  },
  {
   "cell_type": "code",
   "execution_count": null,
   "metadata": {
    "id": "5e659582"
   },
   "outputs": [],
   "source": [
    "def get_test_data(data):\n",
    "    test_start_date = '2018-08-01'\n",
    "    test_start_date = dt.strptime(test_start_date, '%Y-%m-%d')\n",
    "    is_test = data.datetime >= ratio_date\n",
    "    return data[is_test]"
   ]
  },
  {
   "cell_type": "code",
   "execution_count": null,
   "metadata": {
    "id": "3af80485"
   },
   "outputs": [],
   "source": [
    "preprocessed, by_atm, feature_cols,target_col = data_preparation_main()"
   ]
  },
  {
   "cell_type": "code",
   "execution_count": null,
   "metadata": {
    "colab": {
     "base_uri": "https://localhost:8080/",
     "height": 602
    },
    "id": "31e12a4d",
    "outputId": "6e762499-b728-4f91-cc5d-3d0d858ad32e",
    "scrolled": true
   },
   "outputs": [],
   "source": [
    "tmp = preprocessed.pivot_table(index='datetime', values='target', aggfunc='sum').reset_index()\n",
    "idx = tmp.datetime\n",
    "x = tmp.target\n",
    "\n",
    "plt.figure(figsize=(20, 10))\n",
    "plt.plot(idx, x);"
   ]
  },
  {
   "cell_type": "code",
   "execution_count": null,
   "metadata": {
    "colab": {
     "base_uri": "https://localhost:8080/",
     "height": 592
    },
    "id": "79dba362",
    "outputId": "5b090677-f299-4e10-ab23-554d89bd6aab"
   },
   "outputs": [],
   "source": [
    "plt.figure(figsize=(20, 10))\n",
    "for atm_id in by_atm.keys():\n",
    "    idx = by_atm[atm_id].datetime\n",
    "    x = by_atm[atm_id].target\n",
    "    plt.plot(idx, x);"
   ]
  },
  {
   "cell_type": "code",
   "execution_count": null,
   "metadata": {
    "colab": {
     "base_uri": "https://localhost:8080/",
     "height": 592
    },
    "id": "c3fe7384",
    "outputId": "285612c7-5ea7-49d5-9035-81bc2250ba67"
   },
   "outputs": [],
   "source": [
    "plt.figure(figsize=(20, 10))\n",
    "# for atm_id in by_atm.keys():\n",
    "idx = by_atm[87].datetime\n",
    "x = by_atm[87].target\n",
    "plt.plot(idx, x);"
   ]
  },
  {
   "cell_type": "code",
   "execution_count": null,
   "metadata": {
    "colab": {
     "base_uri": "https://localhost:8080/",
     "height": 609
    },
    "id": "42d376f4",
    "outputId": "eff40f49-b3fe-492e-8df0-ac30a4cae645"
   },
   "outputs": [],
   "source": [
    "preprocessed.pivot_table(index='atm_id', values='target', aggfunc='count').plot(kind='barh', figsize=(10, 10))"
   ]
  },
  {
   "cell_type": "code",
   "execution_count": null,
   "metadata": {
    "id": "1d77a1fa"
   },
   "outputs": [],
   "source": [
    "is_test = preprocessed.datetime > '2018/07/31'\n",
    "is_train = ~is_test"
   ]
  },
  {
   "cell_type": "code",
   "execution_count": null,
   "metadata": {
    "id": "711fee03"
   },
   "outputs": [],
   "source": [
    "dataset = pd.get_dummies(preprocessed, columns=['atm_id'])\n",
    "feature_cols_2, target = get_feature_target_cols(dataset)\n",
    "X = dataset[feature_cols_2]\n",
    "y = dataset[target]\n",
    "X_train = X[is_train]\n",
    "X_test = X[is_test]\n",
    "\n",
    "y_train = y[is_train]\n",
    "y_test = y[is_test]"
   ]
  },
  {
   "cell_type": "code",
   "execution_count": null,
   "metadata": {
    "id": "lrKTn9YKfLgR"
   },
   "outputs": [],
   "source": [
    "test = dataset[is_test].sort_values(by='datetime')"
   ]
  },
  {
   "cell_type": "code",
   "execution_count": null,
   "metadata": {
    "id": "W3sF-GU1fZVW"
   },
   "outputs": [],
   "source": [
    "date_by_atm = test.datetime"
   ]
  },
  {
   "cell_type": "code",
   "execution_count": null,
   "metadata": {
    "id": "ZNPWLbHYSomJ"
   },
   "outputs": [],
   "source": [
    "from sklearn.linear_model import LinearRegression\n",
    "from sklearn.linear_model import Ridge\n",
    "from sklearn.metrics import mean_squared_error"
   ]
  },
  {
   "cell_type": "code",
   "execution_count": null,
   "metadata": {
    "colab": {
     "base_uri": "https://localhost:8080/"
    },
    "id": "dbQ3lrBiSoum",
    "outputId": "e1e40f42-9377-43cb-ae6e-bf88beb2c996"
   },
   "outputs": [],
   "source": [
    "    ridge = Ridge(alpha=5)\n",
    "    ridge.fit(X_train, y_train)\n",
    "    pred = ridge.predict(X_test)\n",
    "    mse = mean_squared_error(pred, y_test)\n",
    "    rmse = np.sqrt(mse)"
   ]
  },
  {
   "cell_type": "code",
   "execution_count": null,
   "metadata": {
    "colab": {
     "base_uri": "https://localhost:8080/"
    },
    "id": "73WBCt6TWXs1",
    "outputId": "97bdc1c0-8129-4690-887e-3c0fd21c5937"
   },
   "outputs": [],
   "source": [
    "rmse"
   ]
  },
  {
   "cell_type": "code",
   "execution_count": null,
   "metadata": {
    "colab": {
     "base_uri": "https://localhost:8080/",
     "height": 592
    },
    "id": "hC6EeYfJSpHj",
    "outputId": "6bc4b7f7-f650-4af9-f9d1-b29d3251f2c9"
   },
   "outputs": [],
   "source": [
    "plt.figure(figsize=(20, 10))\n",
    "plt.plot(date_by_atm, y_test, label='test')\n",
    "plt.plot(date_by_atm, pred, label='pred')\n",
    "plt.legend();"
   ]
  },
  {
   "cell_type": "code",
   "execution_count": null,
   "metadata": {
    "colab": {
     "base_uri": "https://localhost:8080/",
     "height": 592
    },
    "id": "Jl8hG1OyVoBY",
    "outputId": "4db5c82b-e4a4-4811-f0cd-0fc9d6a9ee2e"
   },
   "outputs": [],
   "source": [
    "    lr = LinearRegression()\n",
    "    lr.fit(X_train, y_train)\n",
    "    pred = lr.predict(X_test)\n",
    "    mse = mean_squared_error(pred, y_test)\n",
    "    rmse = np.sqrt(mse)\n",
    "\n",
    "    plt.figure(figsize=(20, 10))\n",
    "    plt.plot(date_by_atm, y_test, label='test')\n",
    "    plt.plot(date_by_atm, pred, label='pred')\n",
    "    plt.legend();"
   ]
  },
  {
   "cell_type": "code",
   "execution_count": null,
   "metadata": {
    "colab": {
     "base_uri": "https://localhost:8080/"
    },
    "id": "7ScCKjgWgvuC",
    "outputId": "ae57103c-5700-42cf-8c8a-dc8776cc1ba3"
   },
   "outputs": [],
   "source": [
    "rmse"
   ]
  },
  {
   "cell_type": "code",
   "execution_count": null,
   "metadata": {
    "colab": {
     "base_uri": "https://localhost:8080/"
    },
    "id": "5WUFxR6so3LQ",
    "outputId": "58cdd555-5559-4155-b615-93b82fe2ea4c"
   },
   "outputs": [],
   "source": [
    "from sklearn.ensemble import RandomForestRegressor\n",
    "rf = RandomForestRegressor(random_state=1234)\n",
    "rf.fit(X_train, y_train)\n",
    "pred = rf.predict(X_test)\n",
    "mse = mean_squared_error(y_test, pred)\n",
    "rmse = np.sqrt(mse)\n",
    "rmse"
   ]
  },
  {
   "cell_type": "code",
   "execution_count": null,
   "metadata": {
    "colab": {
     "base_uri": "https://localhost:8080/",
     "height": 592
    },
    "id": "QEOnfmGJo3OG",
    "outputId": "713af593-ad9d-4a90-bb1f-e57fe1625c42"
   },
   "outputs": [],
   "source": [
    "    plt.figure(figsize=(20, 10))\n",
    "    plt.plot(date_by_atm, y_test, label='test')\n",
    "    plt.plot(date_by_atm, pred, label='pred')\n",
    "    plt.legend();"
   ]
  },
  {
   "cell_type": "code",
   "execution_count": null,
   "metadata": {
    "id": "YhZCF8Pto3SD"
   },
   "outputs": [],
   "source": []
  },
  {
   "cell_type": "code",
   "execution_count": null,
   "metadata": {
    "id": "h6qSyn1Vo3UF"
   },
   "outputs": [],
   "source": []
  },
  {
   "cell_type": "markdown",
   "metadata": {
    "id": "7edac547"
   },
   "source": [
    "### pymc試す"
   ]
  },
  {
   "cell_type": "code",
   "execution_count": null,
   "metadata": {
    "id": "3451fce1"
   },
   "outputs": [],
   "source": []
  },
  {
   "cell_type": "code",
   "execution_count": null,
   "metadata": {
    "id": "deba2c1e",
    "outputId": "6ac16c51-fa35-477b-d12b-8f2f9be9bf84"
   },
   "outputs": [],
   "source": [
    "import scipy.stats as st\n",
    "\n",
    "import pymc3 as pm\n",
    "import arviz as az\n",
    "\n",
    "import warnings\n",
    "warnings.simplefilter('ignore')"
   ]
  },
  {
   "cell_type": "code",
   "execution_count": null,
   "metadata": {
    "id": "24e6aba3",
    "outputId": "77838952-48e1-4ce5-de2d-68dce4d3ccb3"
   },
   "outputs": [],
   "source": [
    "by_atm[87].shape"
   ]
  },
  {
   "cell_type": "code",
   "execution_count": null,
   "metadata": {
    "id": "ee2d9bab",
    "outputId": "74b2920e-3434-4f62-88ff-3230384b95cd"
   },
   "outputs": [],
   "source": [
    "from sklearn.linear_model import LinearRegression\n",
    "from sklearn.linear_model import Ridge\n",
    "from sklearn.linear_model import Lasso\n",
    "from sklearn.metrics import mean_squared_error\n",
    "\n",
    "from sklearn.tree import DecisionTreeRegressor\n",
    "\n",
    "train = by_atm[87]\n",
    "X = train[feature_cols].values\n",
    "y = train[target_col].values\n",
    "\n",
    "lr = Lasso(alpha=1)\n",
    "lr.fit(X, y)\n",
    "plt.hist(lr.coef_);"
   ]
  },
  {
   "cell_type": "markdown",
   "metadata": {
    "id": "c4b192b1"
   },
   "source": [
    "https://note.com/kanawoinvestment/n/n7658c0a83f6c"
   ]
  },
  {
   "cell_type": "code",
   "execution_count": null,
   "metadata": {
    "id": "c7cd905e"
   },
   "outputs": [],
   "source": [
    "def get_date_bucket(x):\n",
    "    if x < 10:\n",
    "        return 'month_head'\n",
    "    elif x < 20:\n",
    "        return 'month_mid'\n",
    "    else:\n",
    "        return 'month_end'"
   ]
  },
  {
   "cell_type": "code",
   "execution_count": null,
   "metadata": {
    "id": "87bfbe68"
   },
   "outputs": [],
   "source": [
    "feature_for_sd = [\n",
    " 'passed_date', \n",
    " 'dayofweek_1',\n",
    " 'dayofweek_2',\n",
    " 'dayofweek_3',\n",
    " 'dayofweek_4',\n",
    " 'dayofweek_5',\n",
    " 'dayofweek_6',\n",
    " 'month_2',\n",
    " 'month_3',\n",
    " 'month_4',\n",
    " 'month_5',\n",
    " 'month_6',\n",
    " 'month_7',\n",
    " 'month_8',\n",
    " 'month_9',\n",
    " 'month_10',\n",
    " 'month_11',\n",
    " 'month_12',\n",
    " 'salary10th',\n",
    " 'salary25th',\n",
    " 'month_head',\n",
    " 'month_mid',\n",
    " 'month_end']"
   ]
  },
  {
   "cell_type": "code",
   "execution_count": null,
   "metadata": {
    "id": "e505ffe8",
    "outputId": "134f44bf-4273-4203-f106-4fd29e40e01e"
   },
   "outputs": [],
   "source": [
    "feature_cols"
   ]
  },
  {
   "cell_type": "code",
   "execution_count": null,
   "metadata": {
    "id": "3d130929",
    "outputId": "fcadd70e-ec41-4b41-ed62-f4acc4a8a810"
   },
   "outputs": [],
   "source": [
    "train = by_atm[87]\n",
    "X = train[feature_cols].values\n",
    "y = train[target_col].values\n",
    "\n",
    "train['month_head'] = (train['day'] <= 10).astype(int)\n",
    "train['month_mid'] = ((10 < train['day'])&(train['day'] <= 20)).astype(int)\n",
    "train['month_end'] = (20 < train['day']).astype(int)    \n",
    "\n",
    "X_for_sd = train[feature_for_sd].values\n",
    "\n",
    "from sklearn.preprocessing import StandardScaler\n",
    "scaler = StandardScaler()\n",
    "X_for_sd = scaler.fit_transform(X_for_sd)\n",
    "\n",
    "X = scaler.fit_transform(X)"
   ]
  },
  {
   "cell_type": "code",
   "execution_count": null,
   "metadata": {
    "id": "dbb521e3"
   },
   "outputs": [],
   "source": [
    "N = train['passed_date'].max()\n",
    "date = train['passed_date'].values"
   ]
  },
  {
   "cell_type": "code",
   "execution_count": null,
   "metadata": {
    "id": "304bef38"
   },
   "outputs": [],
   "source": [
    "with pm.Model() as model:    \n",
    "    # 回帰係数\n",
    "    mu_w_1 = pm.Uniform('mu_w_1', lower=-1000, upper=1000, shape=len(feature_cols))\n",
    "    mu_w_2 = pm.Uniform('mu_w_2', lower=-1000, upper=1000, shape=len(feature_cols))\n",
    "    \n",
    "    # 切片\n",
    "    mu_intercept_1 = pm.Uniform('mu_intercept_1', lower=-1000, upper=1000,)\n",
    "    mu_intercept_2 = pm.Uniform('mu_intercept_2', lower=-1000, upper=1000,)\n",
    "    \n",
    "    # y = α + βX\n",
    "    mu_1 = pm.math.dot(X, mu_w_1) + mu_intercept_1\n",
    "    mu_2 = pm.math.dot(X, mu_w_2) + mu_intercept_2\n",
    "    \n",
    "    #  y の変化点\n",
    "    mu_tau = pm.DiscreteUniform('mu_tau', lower=0, upper=N)\n",
    "    mu = pm.Deterministic('mu', pm.math.switch(mu_tau > date, mu_1, mu_2))\n",
    "        \n",
    "    # 分散の重み\n",
    "    sd_w_1 = pm.Uniform('sd_w_1', lower=-1000, upper=1000, shape=len(feature_for_sd))\n",
    "    sd_w_2 = pm.Uniform('sd_w_2', lower=-1000, upper=1000, shape=len(feature_for_sd))\n",
    "    sd_intercept_1 = pm.Uniform('sd_intercept_1', lower=-1000, upper=1000)\n",
    "    sd_intercept_2 = pm.Uniform('sd_intercept_2', lower=-1000, upper=1000)\n",
    "    \n",
    "    # 分散を線形結合で求める\n",
    "    sd_1 = pm.math.dot(X_for_sd, sd_w_1) + sd_intercept_1\n",
    "    sd_2 = pm.math.dot(X_for_sd, sd_w_2) + sd_intercept_2\n",
    "    \n",
    "    #  sdの変化点\n",
    "    sd_tau = pm.DiscreteUniform('sd_tau', lower=0, upper=N)\n",
    "    sd = pm.Deterministic('sd', pm.math.switch(sd_tau > date, sd_1, sd_2))\n",
    "    \n",
    "    pm_y = pm.Normal('pm_y', mu=mu, sd=pm.math.exp(sd), observed=y)"
   ]
  },
  {
   "cell_type": "code",
   "execution_count": null,
   "metadata": {
    "id": "dba5c2b0"
   },
   "outputs": [],
   "source": [
    "# np.exp(-100)"
   ]
  },
  {
   "cell_type": "code",
   "execution_count": null,
   "metadata": {
    "id": "7444f7e6",
    "outputId": "d110bacf-f6c7-4bf4-9a30-4b5bb708aa3f"
   },
   "outputs": [],
   "source": [
    "with model:\n",
    "    trace = pm.sample(draws=1000, chains=1, step=pm.Metropolis())"
   ]
  },
  {
   "cell_type": "code",
   "execution_count": null,
   "metadata": {
    "id": "b0f058e0",
    "outputId": "d330991e-21ee-4b68-d31f-cfc2660b0513"
   },
   "outputs": [],
   "source": [
    "trace.varnames"
   ]
  },
  {
   "cell_type": "code",
   "execution_count": null,
   "metadata": {
    "id": "ec3b9215",
    "outputId": "e0b1be08-b377-45a4-c3fd-1afbe81f628f"
   },
   "outputs": [],
   "source": [
    "az.summary(trace, var_names=['mu_tau', 'sd_tau'])"
   ]
  },
  {
   "cell_type": "code",
   "execution_count": null,
   "metadata": {
    "id": "a6bf456b",
    "outputId": "18e34749-b91e-42ac-d4ca-7aaa856307ea"
   },
   "outputs": [],
   "source": [
    "coef_result = az.summary(trace, var_names=['mu_w_1', 'mu_w_2'])\n",
    "coef_result['feature_name'] = feature_cols * 2\n",
    "coef_result"
   ]
  },
  {
   "cell_type": "code",
   "execution_count": null,
   "metadata": {
    "id": "44296f2f",
    "outputId": "f28320fe-58a9-47bb-ea57-574d67b9bbae"
   },
   "outputs": [],
   "source": [
    "az.summary(trace, var_names=['sd_w_1', 'sd_w_2'])"
   ]
  },
  {
   "cell_type": "code",
   "execution_count": null,
   "metadata": {
    "id": "ff6f30b7",
    "outputId": "dc507f79-0963-4275-da93-ca5eda045aac"
   },
   "outputs": [],
   "source": [
    "az.plot_trace(trace, var_names=['mu_tau', 'sd_tau']);"
   ]
  },
  {
   "cell_type": "code",
   "execution_count": null,
   "metadata": {
    "id": "0c50059c",
    "outputId": "95527289-5c00-4e43-fbc7-b47fe80039d4"
   },
   "outputs": [],
   "source": [
    "sd_w_dataframe = pd.DataFrame(index=feature_for_sd, data={'sd_before': trace['sd_w_1'].mean(axis=0), 'sd_after':trace['sd_w_2'].mean(axis=0)})\n",
    "sd_w_dataframe.plot(kind='barh', figsize=(20, 10));"
   ]
  },
  {
   "cell_type": "code",
   "execution_count": null,
   "metadata": {
    "id": "22e4dc28",
    "outputId": "62970eb1-93d6-4775-a43e-62c42534b184"
   },
   "outputs": [],
   "source": [
    "coef_w_dataframe = pd.DataFrame(index=feature_cols, data={'coef_before': trace['mu_w_1'].mean(axis=0), 'coef_after':trace['mu_w_2'].mean(axis=0)})\n",
    "coef_w_dataframe.plot(kind='barh', figsize=(20, 10));\n"
   ]
  },
  {
   "cell_type": "code",
   "execution_count": null,
   "metadata": {
    "id": "0c37a4f1"
   },
   "outputs": [],
   "source": [
    "sd_tau_matrix = np.ones([len(date), len(trace['sd_tau'])])\n",
    "sd_tau = ((sd_tau_matrix * trace['sd_tau']).T > date).mean(axis=0)\n",
    "\n",
    "sd_1 = X_for_sd @ trace['sd_w_1'].mean(axis=0) + trace['sd_intercept_1'].mean()\n",
    "sd_2 = X_for_sd @ trace['sd_w_2'].mean(axis=0) + trace['sd_intercept_2'].mean()\n",
    "\n",
    "sd_before = sd_1 * sd_tau\n",
    "sd_after = sd_2 * (1 - sd_tau)\n",
    "\n",
    "sd = sd_before + sd_after\n",
    "# sd"
   ]
  },
  {
   "cell_type": "code",
   "execution_count": null,
   "metadata": {
    "id": "b2aaa04b"
   },
   "outputs": [],
   "source": [
    "mu_tau_matrix = np.ones([len(date), len(trace['mu_tau'])])\n",
    "mu_tau = ((mu_tau_matrix * trace['mu_tau']).T > date).mean(axis=0)\n",
    "\n",
    "mu_1 = X @ trace['mu_w_1'].mean(axis=0) + trace['mu_intercept_1'].mean()\n",
    "mu_2 = X @ trace['mu_w_2'].mean(axis=0) + trace['mu_intercept_2'].mean()\n",
    "\n",
    "mu_before = mu_1 * mu_tau\n",
    "mu_after = mu_2 * (1 - mu_tau)\n",
    "\n",
    "mu = mu_before + mu_after\n",
    "# mu"
   ]
  },
  {
   "cell_type": "code",
   "execution_count": null,
   "metadata": {
    "id": "91cd8e3a"
   },
   "outputs": [],
   "source": [
    "# sd"
   ]
  },
  {
   "cell_type": "code",
   "execution_count": null,
   "metadata": {
    "id": "7357d364",
    "outputId": "b11d9b75-e695-4916-9c1c-66e8005232a5"
   },
   "outputs": [],
   "source": [
    "plt.figure(figsize=(20, 10))\n",
    "plt.plot(train.datetime, train.target)\n",
    "plt.plot(train.datetime, mu)\n",
    "\n",
    "plt.fill_between(train.datetime, mu + (1.96 * np.exp(sd)), mu - (1.96 * np.exp(sd)), alpha=0.4);"
   ]
  },
  {
   "cell_type": "code",
   "execution_count": null,
   "metadata": {
    "id": "b6b079fd"
   },
   "outputs": [],
   "source": []
  }
 ],
 "metadata": {
  "colab": {
   "name": "atm_prediction_pymc_complete.ipynb",
   "provenance": []
  },
  "kernelspec": {
   "display_name": "Python 3",
   "language": "python",
   "name": "python3"
  },
  "language_info": {
   "codemirror_mode": {
    "name": "ipython",
    "version": 3
   },
   "file_extension": ".py",
   "mimetype": "text/x-python",
   "name": "python",
   "nbconvert_exporter": "python",
   "pygments_lexer": "ipython3",
   "version": "3.8.3"
  },
  "toc": {
   "base_numbering": 1,
   "nav_menu": {},
   "number_sections": true,
   "sideBar": true,
   "skip_h1_title": false,
   "title_cell": "Table of Contents",
   "title_sidebar": "Contents",
   "toc_cell": false,
   "toc_position": {
    "height": "calc(100% - 180px)",
    "left": "10px",
    "top": "150px",
    "width": "165px"
   },
   "toc_section_display": true,
   "toc_window_display": true
  },
  "varInspector": {
   "cols": {
    "lenName": 16,
    "lenType": 16,
    "lenVar": 40
   },
   "kernels_config": {
    "python": {
     "delete_cmd_postfix": "",
     "delete_cmd_prefix": "del ",
     "library": "var_list.py",
     "varRefreshCmd": "print(var_dic_list())"
    },
    "r": {
     "delete_cmd_postfix": ") ",
     "delete_cmd_prefix": "rm(",
     "library": "var_list.r",
     "varRefreshCmd": "cat(var_dic_list()) "
    }
   },
   "types_to_exclude": [
    "module",
    "function",
    "builtin_function_or_method",
    "instance",
    "_Feature"
   ],
   "window_display": false
  }
 },
 "nbformat": 4,
 "nbformat_minor": 5
}
